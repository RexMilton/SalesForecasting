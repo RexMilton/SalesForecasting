{
 "cells": [
  {
   "cell_type": "markdown",
   "metadata": {
    "id": "h5zL0CnBO800"
   },
   "source": [
    "<center><h2> Walmart Sales Forecasting </h2></center>"
   ]
  },
  {
   "cell_type": "code",
   "execution_count": null,
   "metadata": {
    "execution": {
     "iopub.execute_input": "2022-08-03T09:08:24.240785Z",
     "iopub.status.busy": "2022-08-03T09:08:24.240237Z",
     "iopub.status.idle": "2022-08-03T09:08:24.247251Z",
     "shell.execute_reply": "2022-08-03T09:08:24.245883Z",
     "shell.execute_reply.started": "2022-08-03T09:08:24.240755Z"
    },
    "executionInfo": {
     "elapsed": 5163,
     "status": "ok",
     "timestamp": 1601973732825,
     "user": {
      "displayName": "Pianalytix Vrec",
      "photoUrl": "",
      "userId": "08286299111597749388"
     },
     "user_tz": -330
    },
    "id": "ePR3XulUErwz"
   },
   "outputs": [],
   "source": [
    "import numpy as np\n",
    "import pandas as pd\n",
    "\n",
    "import matplotlib.pyplot as plt\n",
    "import matplotlib.patches as patches\n",
    "import seaborn as sns\n",
    "import plotly.express as px\n",
    "import plotly.graph_objs as go\n",
    "from plotly.offline import iplot\n",
    "\n",
    "from sklearn.model_selection import train_test_split\n",
    "from math import sqrt\n",
    "from sklearn.linear_model import Ridge\n",
    "from sklearn.linear_model import Lasso\n",
    "from sklearn.metrics import mean_squared_error as mse\n",
    "from sklearn.metrics import r2_score\n",
    "from sklearn.model_selection import GridSearchCV\n",
    "from sklearn.model_selection import RandomizedSearchCV\n",
    "import warnings"
   ]
  },
  {
   "cell_type": "markdown",
   "metadata": {
    "id": "BKu4SX5ENPFZ"
   },
   "source": [
    "### Reading the Data From the CSV file"
   ]
  },
  {
   "cell_type": "code",
   "execution_count": null,
   "metadata": {
    "execution": {
     "iopub.execute_input": "2022-08-03T09:08:24.264734Z",
     "iopub.status.busy": "2022-08-03T09:08:24.263836Z",
     "iopub.status.idle": "2022-08-03T09:08:24.507785Z",
     "shell.execute_reply": "2022-08-03T09:08:24.506546Z",
     "shell.execute_reply.started": "2022-08-03T09:08:24.264697Z"
    },
    "executionInfo": {
     "elapsed": 10298,
     "status": "ok",
     "timestamp": 1601973738076,
     "user": {
      "displayName": "Pianalytix Vrec",
      "photoUrl": "",
      "userId": "08286299111597749388"
     },
     "user_tz": -330
    },
    "id": "Px0g7syoNGYf"
   },
   "outputs": [],
   "source": [
    "train_df = pd.read_csv('../input/walmart-sales-forecast/train.csv')\n",
    "features_df = pd.read_csv('../input/walmart-sales-forecast/features.csv')\n",
    "stores_df = pd.read_csv('../input/walmart-sales-forecast/stores.csv')\n",
    "test_df = pd.read_csv('../input/walmart-sales-forecast/test.csv')"
   ]
  },
  {
   "cell_type": "code",
   "execution_count": null,
   "metadata": {
    "execution": {
     "iopub.execute_input": "2022-08-03T09:08:24.510181Z",
     "iopub.status.busy": "2022-08-03T09:08:24.509823Z",
     "iopub.status.idle": "2022-08-03T09:08:24.521668Z",
     "shell.execute_reply": "2022-08-03T09:08:24.520618Z",
     "shell.execute_reply.started": "2022-08-03T09:08:24.510148Z"
    },
    "executionInfo": {
     "elapsed": 10227,
     "status": "ok",
     "timestamp": 1601973738077,
     "user": {
      "displayName": "Pianalytix Vrec",
      "photoUrl": "",
      "userId": "08286299111597749388"
     },
     "user_tz": -330
    },
    "id": "Ecz95KPBNTye",
    "outputId": "a690e7aa-ca45-448d-cf49-012e46a00920"
   },
   "outputs": [],
   "source": [
    "train_df.head()"
   ]
  },
  {
   "cell_type": "code",
   "execution_count": null,
   "metadata": {
    "execution": {
     "iopub.execute_input": "2022-08-03T09:08:24.523081Z",
     "iopub.status.busy": "2022-08-03T09:08:24.522782Z",
     "iopub.status.idle": "2022-08-03T09:08:24.536368Z",
     "shell.execute_reply": "2022-08-03T09:08:24.535282Z",
     "shell.execute_reply.started": "2022-08-03T09:08:24.523052Z"
    },
    "executionInfo": {
     "elapsed": 10170,
     "status": "ok",
     "timestamp": 1601973738078,
     "user": {
      "displayName": "Pianalytix Vrec",
      "photoUrl": "",
      "userId": "08286299111597749388"
     },
     "user_tz": -330
    },
    "id": "znRD5TfcO826",
    "outputId": "25a34c94-9bb5-48df-98e6-f58d05fb0181"
   },
   "outputs": [],
   "source": [
    "train_df.columns"
   ]
  },
  {
   "cell_type": "code",
   "execution_count": null,
   "metadata": {
    "execution": {
     "iopub.execute_input": "2022-08-03T09:08:24.539221Z",
     "iopub.status.busy": "2022-08-03T09:08:24.538677Z",
     "iopub.status.idle": "2022-08-03T09:08:24.549374Z",
     "shell.execute_reply": "2022-08-03T09:08:24.548331Z",
     "shell.execute_reply.started": "2022-08-03T09:08:24.539187Z"
    },
    "executionInfo": {
     "elapsed": 10087,
     "status": "ok",
     "timestamp": 1601973738080,
     "user": {
      "displayName": "Pianalytix Vrec",
      "photoUrl": "",
      "userId": "08286299111597749388"
     },
     "user_tz": -330
    },
    "id": "Z5fgU7r_O83L",
    "outputId": "a967de75-227f-4489-afa3-3bb258e16689"
   },
   "outputs": [],
   "source": [
    "train_df.shape"
   ]
  },
  {
   "cell_type": "code",
   "execution_count": null,
   "metadata": {
    "execution": {
     "iopub.execute_input": "2022-08-03T09:08:24.551282Z",
     "iopub.status.busy": "2022-08-03T09:08:24.550806Z",
     "iopub.status.idle": "2022-08-03T09:08:24.599528Z",
     "shell.execute_reply": "2022-08-03T09:08:24.598761Z",
     "shell.execute_reply.started": "2022-08-03T09:08:24.551252Z"
    },
    "executionInfo": {
     "elapsed": 10031,
     "status": "ok",
     "timestamp": 1601973738081,
     "user": {
      "displayName": "Pianalytix Vrec",
      "photoUrl": "",
      "userId": "08286299111597749388"
     },
     "user_tz": -330
    },
    "id": "YlIzaEbeO83Q",
    "outputId": "14816be8-6038-4e89-8567-24b9b8615cb6"
   },
   "outputs": [],
   "source": [
    "train_df.info()"
   ]
  },
  {
   "cell_type": "code",
   "execution_count": null,
   "metadata": {
    "execution": {
     "iopub.execute_input": "2022-08-03T09:08:24.601251Z",
     "iopub.status.busy": "2022-08-03T09:08:24.600576Z",
     "iopub.status.idle": "2022-08-03T09:08:24.661848Z",
     "shell.execute_reply": "2022-08-03T09:08:24.660754Z",
     "shell.execute_reply.started": "2022-08-03T09:08:24.60122Z"
    },
    "executionInfo": {
     "elapsed": 9966,
     "status": "ok",
     "timestamp": 1601973738083,
     "user": {
      "displayName": "Pianalytix Vrec",
      "photoUrl": "",
      "userId": "08286299111597749388"
     },
     "user_tz": -330
    },
    "id": "1T6rtSE5O83f",
    "outputId": "13b71e68-5204-448e-dec5-6b1d51da7c2f"
   },
   "outputs": [],
   "source": [
    "train_df.describe()"
   ]
  },
  {
   "cell_type": "code",
   "execution_count": null,
   "metadata": {
    "execution": {
     "iopub.execute_input": "2022-08-03T09:08:24.663428Z",
     "iopub.status.busy": "2022-08-03T09:08:24.663052Z",
     "iopub.status.idle": "2022-08-03T09:08:24.698413Z",
     "shell.execute_reply": "2022-08-03T09:08:24.697272Z",
     "shell.execute_reply.started": "2022-08-03T09:08:24.663378Z"
    },
    "executionInfo": {
     "elapsed": 9838,
     "status": "ok",
     "timestamp": 1601973738085,
     "user": {
      "displayName": "Pianalytix Vrec",
      "photoUrl": "",
      "userId": "08286299111597749388"
     },
     "user_tz": -330
    },
    "id": "6VzkOMJfO83s",
    "outputId": "07bcd239-6838-410e-da6e-3814437d5049"
   },
   "outputs": [],
   "source": [
    "train_df.isnull()"
   ]
  },
  {
   "cell_type": "code",
   "execution_count": null,
   "metadata": {
    "execution": {
     "iopub.execute_input": "2022-08-03T09:08:24.701062Z",
     "iopub.status.busy": "2022-08-03T09:08:24.700043Z",
     "iopub.status.idle": "2022-08-03T09:08:24.732777Z",
     "shell.execute_reply": "2022-08-03T09:08:24.731497Z",
     "shell.execute_reply.started": "2022-08-03T09:08:24.701016Z"
    },
    "executionInfo": {
     "elapsed": 9778,
     "status": "ok",
     "timestamp": 1601973738092,
     "user": {
      "displayName": "Pianalytix Vrec",
      "photoUrl": "",
      "userId": "08286299111597749388"
     },
     "user_tz": -330
    },
    "id": "8jupQAo4O833",
    "outputId": "058ab56e-442a-452f-f2a9-e401632d175b"
   },
   "outputs": [],
   "source": [
    "train_df.isnull().sum()"
   ]
  },
  {
   "cell_type": "code",
   "execution_count": null,
   "metadata": {
    "execution": {
     "iopub.execute_input": "2022-08-03T09:08:24.735374Z",
     "iopub.status.busy": "2022-08-03T09:08:24.735021Z",
     "iopub.status.idle": "2022-08-03T09:08:24.753243Z",
     "shell.execute_reply": "2022-08-03T09:08:24.752164Z",
     "shell.execute_reply.started": "2022-08-03T09:08:24.735341Z"
    },
    "executionInfo": {
     "elapsed": 9738,
     "status": "ok",
     "timestamp": 1601973738094,
     "user": {
      "displayName": "Pianalytix Vrec",
      "photoUrl": "",
      "userId": "08286299111597749388"
     },
     "user_tz": -330
    },
    "id": "jB2z2tnUNqzH",
    "outputId": "4fa9b66c-2817-4710-eeec-96134ad3112d"
   },
   "outputs": [],
   "source": [
    "features_df.head()"
   ]
  },
  {
   "cell_type": "code",
   "execution_count": null,
   "metadata": {
    "execution": {
     "iopub.execute_input": "2022-08-03T09:08:24.758532Z",
     "iopub.status.busy": "2022-08-03T09:08:24.758117Z",
     "iopub.status.idle": "2022-08-03T09:08:24.769035Z",
     "shell.execute_reply": "2022-08-03T09:08:24.767944Z",
     "shell.execute_reply.started": "2022-08-03T09:08:24.7585Z"
    },
    "executionInfo": {
     "elapsed": 9700,
     "status": "ok",
     "timestamp": 1601973738096,
     "user": {
      "displayName": "Pianalytix Vrec",
      "photoUrl": "",
      "userId": "08286299111597749388"
     },
     "user_tz": -330
    },
    "id": "miZCADIyO84R",
    "outputId": "c83c3374-c195-4d21-fae3-856e8ef9433d"
   },
   "outputs": [],
   "source": [
    "features_df.columns"
   ]
  },
  {
   "cell_type": "code",
   "execution_count": null,
   "metadata": {
    "execution": {
     "iopub.execute_input": "2022-08-03T09:08:24.771221Z",
     "iopub.status.busy": "2022-08-03T09:08:24.770712Z",
     "iopub.status.idle": "2022-08-03T09:08:24.781532Z",
     "shell.execute_reply": "2022-08-03T09:08:24.780558Z",
     "shell.execute_reply.started": "2022-08-03T09:08:24.77117Z"
    },
    "executionInfo": {
     "elapsed": 9629,
     "status": "ok",
     "timestamp": 1601973738097,
     "user": {
      "displayName": "Pianalytix Vrec",
      "photoUrl": "",
      "userId": "08286299111597749388"
     },
     "user_tz": -330
    },
    "id": "YNEX7ui0O84d",
    "outputId": "ab823951-69c4-4463-9aee-9c44296a9b65"
   },
   "outputs": [],
   "source": [
    "features_df.shape"
   ]
  },
  {
   "cell_type": "code",
   "execution_count": null,
   "metadata": {
    "execution": {
     "iopub.execute_input": "2022-08-03T09:08:24.783241Z",
     "iopub.status.busy": "2022-08-03T09:08:24.782933Z",
     "iopub.status.idle": "2022-08-03T09:08:24.800989Z",
     "shell.execute_reply": "2022-08-03T09:08:24.799624Z",
     "shell.execute_reply.started": "2022-08-03T09:08:24.783205Z"
    },
    "executionInfo": {
     "elapsed": 9575,
     "status": "ok",
     "timestamp": 1601973738098,
     "user": {
      "displayName": "Pianalytix Vrec",
      "photoUrl": "",
      "userId": "08286299111597749388"
     },
     "user_tz": -330
    },
    "id": "4vM917qpO84r",
    "outputId": "99be30b8-671d-457c-80a7-adfc3a40e3ce"
   },
   "outputs": [],
   "source": [
    "features_df.info()"
   ]
  },
  {
   "cell_type": "code",
   "execution_count": null,
   "metadata": {
    "execution": {
     "iopub.execute_input": "2022-08-03T09:08:24.803158Z",
     "iopub.status.busy": "2022-08-03T09:08:24.802749Z",
     "iopub.status.idle": "2022-08-03T09:08:24.850069Z",
     "shell.execute_reply": "2022-08-03T09:08:24.849022Z",
     "shell.execute_reply.started": "2022-08-03T09:08:24.803119Z"
    },
    "executionInfo": {
     "elapsed": 9535,
     "status": "ok",
     "timestamp": 1601973738099,
     "user": {
      "displayName": "Pianalytix Vrec",
      "photoUrl": "",
      "userId": "08286299111597749388"
     },
     "user_tz": -330
    },
    "id": "adghAaCPO840",
    "outputId": "d1011914-1c24-45e9-84f6-dbc7f1089fee"
   },
   "outputs": [],
   "source": [
    "features_df.describe()"
   ]
  },
  {
   "cell_type": "code",
   "execution_count": null,
   "metadata": {
    "execution": {
     "iopub.execute_input": "2022-08-03T09:08:24.852064Z",
     "iopub.status.busy": "2022-08-03T09:08:24.851566Z",
     "iopub.status.idle": "2022-08-03T09:08:24.872856Z",
     "shell.execute_reply": "2022-08-03T09:08:24.871974Z",
     "shell.execute_reply.started": "2022-08-03T09:08:24.852033Z"
    },
    "executionInfo": {
     "elapsed": 9441,
     "status": "ok",
     "timestamp": 1601973738100,
     "user": {
      "displayName": "Pianalytix Vrec",
      "photoUrl": "",
      "userId": "08286299111597749388"
     },
     "user_tz": -330
    },
    "id": "J0XMR65mO85C",
    "outputId": "6e4e7b48-e0ad-4cc9-b3dc-5247278fbf6e"
   },
   "outputs": [],
   "source": [
    "features_df.isnull()"
   ]
  },
  {
   "cell_type": "code",
   "execution_count": null,
   "metadata": {
    "execution": {
     "iopub.execute_input": "2022-08-03T09:08:24.874997Z",
     "iopub.status.busy": "2022-08-03T09:08:24.874038Z",
     "iopub.status.idle": "2022-08-03T09:08:24.888127Z",
     "shell.execute_reply": "2022-08-03T09:08:24.88712Z",
     "shell.execute_reply.started": "2022-08-03T09:08:24.874964Z"
    },
    "executionInfo": {
     "elapsed": 9380,
     "status": "ok",
     "timestamp": 1601973738104,
     "user": {
      "displayName": "Pianalytix Vrec",
      "photoUrl": "",
      "userId": "08286299111597749388"
     },
     "user_tz": -330
    },
    "id": "aMwM9E-DO85P",
    "outputId": "40b1403c-5505-471d-f1ee-d67f40a293cc"
   },
   "outputs": [],
   "source": [
    "features_df.isnull().sum()"
   ]
  },
  {
   "cell_type": "code",
   "execution_count": null,
   "metadata": {
    "execution": {
     "iopub.execute_input": "2022-08-03T09:08:24.890043Z",
     "iopub.status.busy": "2022-08-03T09:08:24.889394Z",
     "iopub.status.idle": "2022-08-03T09:08:24.902033Z",
     "shell.execute_reply": "2022-08-03T09:08:24.9009Z",
     "shell.execute_reply.started": "2022-08-03T09:08:24.890012Z"
    },
    "executionInfo": {
     "elapsed": 9333,
     "status": "ok",
     "timestamp": 1601973738110,
     "user": {
      "displayName": "Pianalytix Vrec",
      "photoUrl": "",
      "userId": "08286299111597749388"
     },
     "user_tz": -330
    },
    "id": "M_uk1l_1Nt17",
    "outputId": "275e5788-1e50-499e-e4aa-5c4229a2eda0"
   },
   "outputs": [],
   "source": [
    "stores_df.head()"
   ]
  },
  {
   "cell_type": "code",
   "execution_count": null,
   "metadata": {
    "execution": {
     "iopub.execute_input": "2022-08-03T09:08:24.904691Z",
     "iopub.status.busy": "2022-08-03T09:08:24.903682Z",
     "iopub.status.idle": "2022-08-03T09:08:24.915633Z",
     "shell.execute_reply": "2022-08-03T09:08:24.914895Z",
     "shell.execute_reply.started": "2022-08-03T09:08:24.904649Z"
    },
    "executionInfo": {
     "elapsed": 9331,
     "status": "ok",
     "timestamp": 1601973738117,
     "user": {
      "displayName": "Pianalytix Vrec",
      "photoUrl": "",
      "userId": "08286299111597749388"
     },
     "user_tz": -330
    },
    "id": "HN6hP7GJO85w",
    "outputId": "966c8828-ffbb-48bf-d6bb-aa0530ae7b56"
   },
   "outputs": [],
   "source": [
    "stores_df.columns"
   ]
  },
  {
   "cell_type": "code",
   "execution_count": null,
   "metadata": {
    "execution": {
     "iopub.execute_input": "2022-08-03T09:08:24.917658Z",
     "iopub.status.busy": "2022-08-03T09:08:24.917066Z",
     "iopub.status.idle": "2022-08-03T09:08:24.926734Z",
     "shell.execute_reply": "2022-08-03T09:08:24.925532Z",
     "shell.execute_reply.started": "2022-08-03T09:08:24.917627Z"
    },
    "executionInfo": {
     "elapsed": 9242,
     "status": "ok",
     "timestamp": 1601973738118,
     "user": {
      "displayName": "Pianalytix Vrec",
      "photoUrl": "",
      "userId": "08286299111597749388"
     },
     "user_tz": -330
    },
    "id": "jeCTbjK9O852",
    "outputId": "c3fe68ce-659f-4bbb-93d8-0a52bace1040"
   },
   "outputs": [],
   "source": [
    "stores_df.shape"
   ]
  },
  {
   "cell_type": "code",
   "execution_count": null,
   "metadata": {
    "execution": {
     "iopub.execute_input": "2022-08-03T09:08:24.929074Z",
     "iopub.status.busy": "2022-08-03T09:08:24.928059Z",
     "iopub.status.idle": "2022-08-03T09:08:24.947783Z",
     "shell.execute_reply": "2022-08-03T09:08:24.946508Z",
     "shell.execute_reply.started": "2022-08-03T09:08:24.929034Z"
    },
    "executionInfo": {
     "elapsed": 9132,
     "status": "ok",
     "timestamp": 1601973738120,
     "user": {
      "displayName": "Pianalytix Vrec",
      "photoUrl": "",
      "userId": "08286299111597749388"
     },
     "user_tz": -330
    },
    "id": "fzxVc8POO86E",
    "outputId": "6f413982-9692-4b33-9e1b-64649800b6eb"
   },
   "outputs": [],
   "source": [
    "stores_df.info()"
   ]
  },
  {
   "cell_type": "code",
   "execution_count": null,
   "metadata": {
    "execution": {
     "iopub.execute_input": "2022-08-03T09:08:24.949676Z",
     "iopub.status.busy": "2022-08-03T09:08:24.949386Z",
     "iopub.status.idle": "2022-08-03T09:08:24.972099Z",
     "shell.execute_reply": "2022-08-03T09:08:24.970881Z",
     "shell.execute_reply.started": "2022-08-03T09:08:24.949649Z"
    },
    "executionInfo": {
     "elapsed": 9023,
     "status": "ok",
     "timestamp": 1601973738122,
     "user": {
      "displayName": "Pianalytix Vrec",
      "photoUrl": "",
      "userId": "08286299111597749388"
     },
     "user_tz": -330
    },
    "id": "F_4pcdoiO86O",
    "outputId": "f33a4465-feb9-4547-fcc3-466ec22096de"
   },
   "outputs": [],
   "source": [
    "stores_df.describe()"
   ]
  },
  {
   "cell_type": "code",
   "execution_count": null,
   "metadata": {
    "execution": {
     "iopub.execute_input": "2022-08-03T09:08:24.974791Z",
     "iopub.status.busy": "2022-08-03T09:08:24.973903Z",
     "iopub.status.idle": "2022-08-03T09:08:24.98984Z",
     "shell.execute_reply": "2022-08-03T09:08:24.98899Z",
     "shell.execute_reply.started": "2022-08-03T09:08:24.974738Z"
    },
    "executionInfo": {
     "elapsed": 8903,
     "status": "ok",
     "timestamp": 1601973738127,
     "user": {
      "displayName": "Pianalytix Vrec",
      "photoUrl": "",
      "userId": "08286299111597749388"
     },
     "user_tz": -330
    },
    "id": "BVnu39NPO86U",
    "outputId": "70f2cf7c-c664-442b-db4e-d61d9c04a44b"
   },
   "outputs": [],
   "source": [
    "stores_df.isnull()"
   ]
  },
  {
   "cell_type": "code",
   "execution_count": null,
   "metadata": {
    "execution": {
     "iopub.execute_input": "2022-08-03T09:08:24.992347Z",
     "iopub.status.busy": "2022-08-03T09:08:24.991455Z",
     "iopub.status.idle": "2022-08-03T09:08:25.005888Z",
     "shell.execute_reply": "2022-08-03T09:08:25.004881Z",
     "shell.execute_reply.started": "2022-08-03T09:08:24.992278Z"
    },
    "executionInfo": {
     "elapsed": 8827,
     "status": "ok",
     "timestamp": 1601973738128,
     "user": {
      "displayName": "Pianalytix Vrec",
      "photoUrl": "",
      "userId": "08286299111597749388"
     },
     "user_tz": -330
    },
    "id": "D2ATZUofO86j",
    "outputId": "c093c35b-3c83-464d-e074-cc97d3177af9"
   },
   "outputs": [],
   "source": [
    "stores_df.isnull().sum()"
   ]
  },
  {
   "cell_type": "markdown",
   "metadata": {
    "id": "6-4WjE50eJHd"
   },
   "source": [
    "Visualizing the Type of the Stores along with their percentage"
   ]
  },
  {
   "cell_type": "code",
   "execution_count": null,
   "metadata": {
    "execution": {
     "iopub.execute_input": "2022-08-03T09:08:25.007803Z",
     "iopub.status.busy": "2022-08-03T09:08:25.007243Z",
     "iopub.status.idle": "2022-08-03T09:08:25.100478Z",
     "shell.execute_reply": "2022-08-03T09:08:25.099714Z",
     "shell.execute_reply.started": "2022-08-03T09:08:25.007772Z"
    },
    "executionInfo": {
     "elapsed": 9904,
     "status": "ok",
     "timestamp": 1601973739265,
     "user": {
      "displayName": "Pianalytix Vrec",
      "photoUrl": "",
      "userId": "08286299111597749388"
     },
     "user_tz": -330
    },
    "id": "yu0volYoNyeZ",
    "outputId": "c3c36ca1-29da-4116-a3ff-ee9a846b97fd"
   },
   "outputs": [],
   "source": [
    "labels = stores_df[\"Type\"].value_counts()[:10].index\n",
    "values = stores_df[\"Type\"].value_counts()[:10].values\n",
    "\n",
    "colors=stores_df[\"Type\"]\n",
    "\n",
    "fig = go.Figure(data=[go.Pie(labels = labels, values=values, textinfo=\"label+percent\", marker=dict(colors=colors))])\n",
    "\n",
    "fig.show()"
   ]
  },
  {
   "cell_type": "markdown",
   "metadata": {
    "id": "hUJLo4gqU_d8"
   },
   "source": [
    "Type A has the max number of store"
   ]
  },
  {
   "cell_type": "markdown",
   "metadata": {
    "id": "tIX_OMNteNHB"
   },
   "source": [
    "Since features and stores have 'Store' as a common column lets merge the data"
   ]
  },
  {
   "cell_type": "code",
   "execution_count": null,
   "metadata": {
    "execution": {
     "iopub.execute_input": "2022-08-03T09:08:25.102374Z",
     "iopub.status.busy": "2022-08-03T09:08:25.101484Z",
     "iopub.status.idle": "2022-08-03T09:08:25.133435Z",
     "shell.execute_reply": "2022-08-03T09:08:25.132505Z",
     "shell.execute_reply.started": "2022-08-03T09:08:25.102342Z"
    },
    "executionInfo": {
     "elapsed": 12699,
     "status": "ok",
     "timestamp": 1601973742114,
     "user": {
      "displayName": "Pianalytix Vrec",
      "photoUrl": "",
      "userId": "08286299111597749388"
     },
     "user_tz": -330
    },
    "id": "_78ZJX1CSSZ2",
    "outputId": "a0b7d79f-26cd-4046-9b12-55d7b417aafd"
   },
   "outputs": [],
   "source": [
    "# Using the merge function to merge ans we are merging along the common column named Store\n",
    "dataset = features_df.merge(stores_df, how='inner', on='Store')\n",
    "dataset.head()"
   ]
  },
  {
   "cell_type": "code",
   "execution_count": null,
   "metadata": {
    "execution": {
     "iopub.execute_input": "2022-08-03T09:08:25.13495Z",
     "iopub.status.busy": "2022-08-03T09:08:25.134639Z",
     "iopub.status.idle": "2022-08-03T09:08:25.144432Z",
     "shell.execute_reply": "2022-08-03T09:08:25.143718Z",
     "shell.execute_reply.started": "2022-08-03T09:08:25.134922Z"
    },
    "executionInfo": {
     "elapsed": 12635,
     "status": "ok",
     "timestamp": 1601973742117,
     "user": {
      "displayName": "Pianalytix Vrec",
      "photoUrl": "",
      "userId": "08286299111597749388"
     },
     "user_tz": -330
    },
    "id": "Ibz5UBwq87TK",
    "outputId": "d884ab60-ecb5-44c0-8ec4-be75ae4d2f83"
   },
   "outputs": [],
   "source": [
    "stores_df.head()"
   ]
  },
  {
   "cell_type": "code",
   "execution_count": null,
   "metadata": {
    "execution": {
     "iopub.execute_input": "2022-08-03T09:08:25.146642Z",
     "iopub.status.busy": "2022-08-03T09:08:25.145558Z",
     "iopub.status.idle": "2022-08-03T09:08:25.157145Z",
     "shell.execute_reply": "2022-08-03T09:08:25.15638Z",
     "shell.execute_reply.started": "2022-08-03T09:08:25.14661Z"
    },
    "executionInfo": {
     "elapsed": 12595,
     "status": "ok",
     "timestamp": 1601973742119,
     "user": {
      "displayName": "Pianalytix Vrec",
      "photoUrl": "",
      "userId": "08286299111597749388"
     },
     "user_tz": -330
    },
    "id": "VHlr_1H5SgO1",
    "outputId": "4dd402a2-55e9-4ecb-b252-b94bc18eff84"
   },
   "outputs": [],
   "source": [
    "# Total number of columns in the dataset\n",
    "dataset.columns"
   ]
  },
  {
   "cell_type": "code",
   "execution_count": null,
   "metadata": {
    "execution": {
     "iopub.execute_input": "2022-08-03T09:08:25.159395Z",
     "iopub.status.busy": "2022-08-03T09:08:25.158953Z",
     "iopub.status.idle": "2022-08-03T09:08:25.17761Z",
     "shell.execute_reply": "2022-08-03T09:08:25.176814Z",
     "shell.execute_reply.started": "2022-08-03T09:08:25.159364Z"
    },
    "executionInfo": {
     "elapsed": 12559,
     "status": "ok",
     "timestamp": 1601973742131,
     "user": {
      "displayName": "Pianalytix Vrec",
      "photoUrl": "",
      "userId": "08286299111597749388"
     },
     "user_tz": -330
    },
    "id": "xAZOpn4sSiVu",
    "outputId": "46fe6a5d-d10e-4047-9a96-a5b1c7ed0b6e"
   },
   "outputs": [],
   "source": [
    "# Getting the info\n",
    "dataset.info()"
   ]
  },
  {
   "cell_type": "markdown",
   "metadata": {
    "id": "VzTWcY6deT76"
   },
   "source": [
    "since the Date in the above dataset is string value we can convert them into datetime using the datetime"
   ]
  },
  {
   "cell_type": "code",
   "execution_count": null,
   "metadata": {
    "execution": {
     "iopub.execute_input": "2022-08-03T09:08:25.189552Z",
     "iopub.status.busy": "2022-08-03T09:08:25.188477Z",
     "iopub.status.idle": "2022-08-03T09:08:25.236158Z",
     "shell.execute_reply": "2022-08-03T09:08:25.235114Z",
     "shell.execute_reply.started": "2022-08-03T09:08:25.189516Z"
    },
    "executionInfo": {
     "elapsed": 12501,
     "status": "ok",
     "timestamp": 1601973742132,
     "user": {
      "displayName": "Pianalytix Vrec",
      "photoUrl": "",
      "userId": "08286299111597749388"
     },
     "user_tz": -330
    },
    "id": "8SQaEilGSkbW",
    "outputId": "192a1018-f7f6-4a1b-e7fc-fb2184ff9bc6"
   },
   "outputs": [],
   "source": [
    "# Describing the dataset\n",
    "dataset.describe()"
   ]
  },
  {
   "cell_type": "markdown",
   "metadata": {
    "id": "Dg3RN5I_ecnH"
   },
   "source": [
    "Visualizing the Type of the Stores along with their percentage in the dataset"
   ]
  },
  {
   "cell_type": "code",
   "execution_count": null,
   "metadata": {
    "execution": {
     "iopub.execute_input": "2022-08-03T09:08:25.237664Z",
     "iopub.status.busy": "2022-08-03T09:08:25.237379Z",
     "iopub.status.idle": "2022-08-03T09:08:25.295337Z",
     "shell.execute_reply": "2022-08-03T09:08:25.294224Z",
     "shell.execute_reply.started": "2022-08-03T09:08:25.237638Z"
    },
    "executionInfo": {
     "elapsed": 12453,
     "status": "ok",
     "timestamp": 1601973742133,
     "user": {
      "displayName": "Pianalytix Vrec",
      "photoUrl": "",
      "userId": "08286299111597749388"
     },
     "user_tz": -330
    },
    "id": "TsxCzs3_Ss33",
    "outputId": "537c7fe7-4644-41e7-953a-7076434e6d02"
   },
   "outputs": [],
   "source": [
    "labels = dataset[\"Type\"].value_counts()[:10].index  # Taking the top 10 index\n",
    "values = dataset[\"Type\"].value_counts()[:10].values  # Taking the top 10 values\n",
    "\n",
    "colors=dataset[\"Type\"]\n",
    "\n",
    "fig = go.Figure(data=[go.Pie(labels = labels, values=values, textinfo=\"label+percent\", marker=dict(colors=colors))])\n",
    "\n",
    "fig.show()"
   ]
  },
  {
   "cell_type": "markdown",
   "metadata": {
    "id": "UUJQwndec0ec"
   },
   "source": [
    "Type A has the maximum number of stores"
   ]
  },
  {
   "cell_type": "markdown",
   "metadata": {
    "id": "8RDiJaEOeiEb"
   },
   "source": [
    "lets get the datatype info of the test dataset"
   ]
  },
  {
   "cell_type": "markdown",
   "metadata": {
    "id": "2ue7b4lyenFh"
   },
   "source": [
    "Here Date is of string type"
   ]
  },
  {
   "cell_type": "code",
   "execution_count": null,
   "metadata": {
    "execution": {
     "iopub.execute_input": "2022-08-03T09:08:25.29713Z",
     "iopub.status.busy": "2022-08-03T09:08:25.296798Z",
     "iopub.status.idle": "2022-08-03T09:08:25.314831Z",
     "shell.execute_reply": "2022-08-03T09:08:25.313941Z",
     "shell.execute_reply.started": "2022-08-03T09:08:25.2971Z"
    },
    "executionInfo": {
     "elapsed": 12397,
     "status": "ok",
     "timestamp": 1601973742134,
     "user": {
      "displayName": "Pianalytix Vrec",
      "photoUrl": "",
      "userId": "08286299111597749388"
     },
     "user_tz": -330
    },
    "id": "q77KtE2mThsF",
    "outputId": "8de6c555-da40-43ac-e716-ac698d96d437"
   },
   "outputs": [],
   "source": [
    "# Getting the info\n",
    "test_df.info()"
   ]
  },
  {
   "cell_type": "markdown",
   "metadata": {
    "id": "grREjzWbeq-k"
   },
   "source": [
    "Here also Date is of string type"
   ]
  },
  {
   "cell_type": "markdown",
   "metadata": {
    "id": "IjzHcc35ewrq"
   },
   "source": [
    "Visualizing the top 10 Department in the train dataset along with their percentage"
   ]
  },
  {
   "cell_type": "code",
   "execution_count": null,
   "metadata": {
    "execution": {
     "iopub.execute_input": "2022-08-03T09:08:25.31659Z",
     "iopub.status.busy": "2022-08-03T09:08:25.316142Z",
     "iopub.status.idle": "2022-08-03T09:08:25.363576Z",
     "shell.execute_reply": "2022-08-03T09:08:25.362265Z",
     "shell.execute_reply.started": "2022-08-03T09:08:25.316557Z"
    },
    "executionInfo": {
     "elapsed": 12330,
     "status": "ok",
     "timestamp": 1601973742137,
     "user": {
      "displayName": "Pianalytix Vrec",
      "photoUrl": "",
      "userId": "08286299111597749388"
     },
     "user_tz": -330
    },
    "id": "f9ImsUAwTquo",
    "outputId": "95aeef1b-c343-4e45-8f40-a446093b807a"
   },
   "outputs": [],
   "source": [
    "labels = train_df[\"Dept\"].value_counts()[:10].index  # Taking the top 10 index\n",
    "values = train_df[\"Dept\"].value_counts()[:10].values  # Taking the top 10 values\n",
    "\n",
    "colors=train_df[\"Dept\"]\n",
    "\n",
    "fig = go.Figure(data=[go.Pie(labels = labels, values=values, textinfo=\"label+percent\", marker=dict(colors=colors))])\n",
    "\n",
    "fig.show()"
   ]
  },
  {
   "cell_type": "markdown",
   "metadata": {
    "id": "xSz3DAjme2rW"
   },
   "source": [
    "Visualizing the top 10 store in the train dataset along with their percentage"
   ]
  },
  {
   "cell_type": "markdown",
   "metadata": {
    "id": "6hcVoYgqdEJU"
   },
   "source": [
    "Visualizing the Store Data"
   ]
  },
  {
   "cell_type": "code",
   "execution_count": null,
   "metadata": {
    "execution": {
     "iopub.execute_input": "2022-08-03T09:08:25.365872Z",
     "iopub.status.busy": "2022-08-03T09:08:25.364963Z",
     "iopub.status.idle": "2022-08-03T09:08:25.41474Z",
     "shell.execute_reply": "2022-08-03T09:08:25.413659Z",
     "shell.execute_reply.started": "2022-08-03T09:08:25.365835Z"
    },
    "executionInfo": {
     "elapsed": 12276,
     "status": "ok",
     "timestamp": 1601973742138,
     "user": {
      "displayName": "Pianalytix Vrec",
      "photoUrl": "",
      "userId": "08286299111597749388"
     },
     "user_tz": -330
    },
    "id": "22iJVOcXTyS_",
    "outputId": "da752748-911d-45e8-924b-b9779674f3a4"
   },
   "outputs": [],
   "source": [
    "labels = train_df[\"Store\"].value_counts()[:10].index  # Taking the top 10 index\n",
    "values = train_df[\"Store\"].value_counts()[:10].values  # Taking the top 10 values\n",
    "\n",
    "colors=train_df[\"Store\"]\n",
    "\n",
    "fig = go.Figure(data=[go.Pie(labels = labels, values=values, textinfo=\"label+percent\", marker=dict(colors=colors))])\n",
    "\n",
    "fig.show()"
   ]
  },
  {
   "cell_type": "markdown",
   "metadata": {
    "id": "MJ5iF_vddIs3"
   },
   "source": [
    "Visualizing the IsHoliday Data"
   ]
  },
  {
   "cell_type": "code",
   "execution_count": null,
   "metadata": {
    "execution": {
     "iopub.execute_input": "2022-08-03T09:08:25.416895Z",
     "iopub.status.busy": "2022-08-03T09:08:25.416484Z",
     "iopub.status.idle": "2022-08-03T09:08:27.528628Z",
     "shell.execute_reply": "2022-08-03T09:08:27.525514Z",
     "shell.execute_reply.started": "2022-08-03T09:08:25.416858Z"
    },
    "executionInfo": {
     "elapsed": 14055,
     "status": "ok",
     "timestamp": 1601973743979,
     "user": {
      "displayName": "Pianalytix Vrec",
      "photoUrl": "",
      "userId": "08286299111597749388"
     },
     "user_tz": -330
    },
    "id": "gjWszZPrT4ER",
    "outputId": "2cf8db3d-13c3-4183-ab1d-88e0bd69ff35"
   },
   "outputs": [],
   "source": [
    "labels = train_df['IsHoliday'].value_counts().index # Taking the all index\n",
    "values = train_df['IsHoliday'].value_counts().values  # Taking the all values\n",
    "\n",
    "colors=train_df['IsHoliday']\n",
    "\n",
    "fig = go.Figure(data=[go.Pie(labels = labels, values=values, textinfo=\"label+percent\", marker=dict(colors=colors))])\n",
    "\n",
    "fig.show()"
   ]
  },
  {
   "cell_type": "markdown",
   "metadata": {
    "id": "zmvhQOwwdPYr"
   },
   "source": [
    "As per the plot for the 93% of the time there is no Holiday"
   ]
  },
  {
   "cell_type": "code",
   "execution_count": null,
   "metadata": {
    "execution": {
     "iopub.execute_input": "2022-08-03T09:08:27.53085Z",
     "iopub.status.busy": "2022-08-03T09:08:27.530094Z",
     "iopub.status.idle": "2022-08-03T09:08:27.536555Z",
     "shell.execute_reply": "2022-08-03T09:08:27.535768Z",
     "shell.execute_reply.started": "2022-08-03T09:08:27.530816Z"
    },
    "executionInfo": {
     "elapsed": 14020,
     "status": "ok",
     "timestamp": 1601973743982,
     "user": {
      "displayName": "Pianalytix Vrec",
      "photoUrl": "",
      "userId": "08286299111597749388"
     },
     "user_tz": -330
    },
    "id": "8j2Q5zuuUCBB",
    "outputId": "9f5ab0c3-cbb7-4764-c241-9462b5b6118b"
   },
   "outputs": [],
   "source": [
    "# Total number of columns in the test_df\n",
    "test_df.columns"
   ]
  },
  {
   "cell_type": "code",
   "execution_count": null,
   "metadata": {
    "execution": {
     "iopub.execute_input": "2022-08-03T09:08:27.538226Z",
     "iopub.status.busy": "2022-08-03T09:08:27.537729Z",
     "iopub.status.idle": "2022-08-03T09:08:27.571174Z",
     "shell.execute_reply": "2022-08-03T09:08:27.570366Z",
     "shell.execute_reply.started": "2022-08-03T09:08:27.538196Z"
    },
    "executionInfo": {
     "elapsed": 13976,
     "status": "ok",
     "timestamp": 1601973743983,
     "user": {
      "displayName": "Pianalytix Vrec",
      "photoUrl": "",
      "userId": "08286299111597749388"
     },
     "user_tz": -330
    },
    "id": "FI4NN85WUJyQ",
    "outputId": "ff412c29-eafb-4f49-ff46-1266dcea3886"
   },
   "outputs": [],
   "source": [
    "# To know more about the test_df\n",
    "test_df.describe()"
   ]
  },
  {
   "cell_type": "code",
   "execution_count": null,
   "metadata": {
    "execution": {
     "iopub.execute_input": "2022-08-03T09:08:27.573707Z",
     "iopub.status.busy": "2022-08-03T09:08:27.572863Z",
     "iopub.status.idle": "2022-08-03T09:08:27.607283Z",
     "shell.execute_reply": "2022-08-03T09:08:27.606165Z",
     "shell.execute_reply.started": "2022-08-03T09:08:27.57367Z"
    },
    "executionInfo": {
     "elapsed": 13896,
     "status": "ok",
     "timestamp": 1601973743984,
     "user": {
      "displayName": "Pianalytix Vrec",
      "photoUrl": "",
      "userId": "08286299111597749388"
     },
     "user_tz": -330
    },
    "id": "FajxefJc_PFm",
    "outputId": "38abadc8-9b3a-4f59-ec5d-55f603009d90"
   },
   "outputs": [],
   "source": [
    "train_df.info()"
   ]
  },
  {
   "cell_type": "code",
   "execution_count": null,
   "metadata": {
    "execution": {
     "iopub.execute_input": "2022-08-03T09:08:27.60918Z",
     "iopub.status.busy": "2022-08-03T09:08:27.608836Z",
     "iopub.status.idle": "2022-08-03T09:08:27.698945Z",
     "shell.execute_reply": "2022-08-03T09:08:27.697767Z",
     "shell.execute_reply.started": "2022-08-03T09:08:27.609149Z"
    },
    "executionInfo": {
     "elapsed": 13851,
     "status": "ok",
     "timestamp": 1601973743985,
     "user": {
      "displayName": "Pianalytix Vrec",
      "photoUrl": "",
      "userId": "08286299111597749388"
     },
     "user_tz": -330
    },
    "id": "CWeA7hAQUMcP"
   },
   "outputs": [],
   "source": [
    "from datetime import datetime\n",
    "dataset['Date'] = pd.to_datetime(dataset['Date'])\n",
    "train_df['Date'] = pd.to_datetime(train_df['Date'])\n",
    "test_df['Date'] = pd.to_datetime(test_df['Date'])"
   ]
  },
  {
   "cell_type": "code",
   "execution_count": null,
   "metadata": {
    "execution": {
     "iopub.execute_input": "2022-08-03T09:08:27.700599Z",
     "iopub.status.busy": "2022-08-03T09:08:27.700269Z",
     "iopub.status.idle": "2022-08-03T09:08:27.716444Z",
     "shell.execute_reply": "2022-08-03T09:08:27.71535Z",
     "shell.execute_reply.started": "2022-08-03T09:08:27.700571Z"
    },
    "executionInfo": {
     "elapsed": 13816,
     "status": "ok",
     "timestamp": 1601973743986,
     "user": {
      "displayName": "Pianalytix Vrec",
      "photoUrl": "",
      "userId": "08286299111597749388"
     },
     "user_tz": -330
    },
    "id": "AiVdHZJM_ovY",
    "outputId": "0e3ab222-610c-4257-fd80-0500c8961615"
   },
   "outputs": [],
   "source": [
    "train_df.info()"
   ]
  },
  {
   "cell_type": "code",
   "execution_count": null,
   "metadata": {
    "execution": {
     "iopub.execute_input": "2022-08-03T09:08:27.718194Z",
     "iopub.status.busy": "2022-08-03T09:08:27.717778Z",
     "iopub.status.idle": "2022-08-03T09:08:27.732408Z",
     "shell.execute_reply": "2022-08-03T09:08:27.731258Z",
     "shell.execute_reply.started": "2022-08-03T09:08:27.718164Z"
    },
    "executionInfo": {
     "elapsed": 13765,
     "status": "ok",
     "timestamp": 1601973743987,
     "user": {
      "displayName": "Pianalytix Vrec",
      "photoUrl": "",
      "userId": "08286299111597749388"
     },
     "user_tz": -330
    },
    "id": "sYDRPjG-_2k2",
    "outputId": "28645bd2-ec0a-415b-f4a0-536ee010fcd2"
   },
   "outputs": [],
   "source": [
    "dataset.info()"
   ]
  },
  {
   "cell_type": "code",
   "execution_count": null,
   "metadata": {
    "execution": {
     "iopub.execute_input": "2022-08-03T09:08:27.734171Z",
     "iopub.status.busy": "2022-08-03T09:08:27.73386Z",
     "iopub.status.idle": "2022-08-03T09:08:27.74663Z",
     "shell.execute_reply": "2022-08-03T09:08:27.745457Z",
     "shell.execute_reply.started": "2022-08-03T09:08:27.734142Z"
    },
    "executionInfo": {
     "elapsed": 13702,
     "status": "ok",
     "timestamp": 1601973743989,
     "user": {
      "displayName": "Pianalytix Vrec",
      "photoUrl": "",
      "userId": "08286299111597749388"
     },
     "user_tz": -330
    },
    "id": "tC0zch3aUQ2U",
    "outputId": "80e0d794-ac37-48a6-b482-b32f94b5e5da"
   },
   "outputs": [],
   "source": [
    "dataset['Week'] = dataset.Date.dt.week # for the week data\n",
    "dataset['Year'] = dataset.Date.dt.year # for the year data"
   ]
  },
  {
   "cell_type": "code",
   "execution_count": null,
   "metadata": {
    "execution": {
     "iopub.execute_input": "2022-08-03T09:08:27.748598Z",
     "iopub.status.busy": "2022-08-03T09:08:27.747996Z",
     "iopub.status.idle": "2022-08-03T09:08:27.771623Z",
     "shell.execute_reply": "2022-08-03T09:08:27.770508Z",
     "shell.execute_reply.started": "2022-08-03T09:08:27.748566Z"
    },
    "executionInfo": {
     "elapsed": 13665,
     "status": "ok",
     "timestamp": 1601973743991,
     "user": {
      "displayName": "Pianalytix Vrec",
      "photoUrl": "",
      "userId": "08286299111597749388"
     },
     "user_tz": -330
    },
    "id": "I_TIrlUWAKtS",
    "outputId": "001078fe-fc13-4d97-8304-b1706e5f90f4"
   },
   "outputs": [],
   "source": [
    "dataset.head()"
   ]
  },
  {
   "cell_type": "code",
   "execution_count": null,
   "metadata": {
    "execution": {
     "iopub.execute_input": "2022-08-03T09:08:27.774046Z",
     "iopub.status.busy": "2022-08-03T09:08:27.773377Z",
     "iopub.status.idle": "2022-08-03T09:08:28.151659Z",
     "shell.execute_reply": "2022-08-03T09:08:28.150641Z",
     "shell.execute_reply.started": "2022-08-03T09:08:27.774003Z"
    },
    "executionInfo": {
     "elapsed": 13600,
     "status": "ok",
     "timestamp": 1601973743992,
     "user": {
      "displayName": "Pianalytix Vrec",
      "photoUrl": "",
      "userId": "08286299111597749388"
     },
     "user_tz": -330
    },
    "id": "-NsXaCmfUUFn"
   },
   "outputs": [],
   "source": [
    "# Merging with train_df\n",
    "\n",
    "train_merge = train_df.merge(dataset, how='inner', on=['Store', 'Date', 'IsHoliday']).sort_values(by=['Store','Dept','Date']).reset_index(drop=True)"
   ]
  },
  {
   "cell_type": "code",
   "execution_count": null,
   "metadata": {
    "execution": {
     "iopub.execute_input": "2022-08-03T09:08:28.153503Z",
     "iopub.status.busy": "2022-08-03T09:08:28.153159Z",
     "iopub.status.idle": "2022-08-03T09:08:28.224791Z",
     "shell.execute_reply": "2022-08-03T09:08:28.223573Z",
     "shell.execute_reply.started": "2022-08-03T09:08:28.153474Z"
    },
    "executionInfo": {
     "elapsed": 13543,
     "status": "ok",
     "timestamp": 1601973743994,
     "user": {
      "displayName": "Pianalytix Vrec",
      "photoUrl": "",
      "userId": "08286299111597749388"
     },
     "user_tz": -330
    },
    "id": "xjZYtX7TWCdq"
   },
   "outputs": [],
   "source": [
    "# Merging with test_df\n",
    "\n",
    "test_merge = test_df.merge(dataset, how='inner', on=['Store', 'Date', 'IsHoliday']).sort_values(by=['Store','Dept','Date']).reset_index(drop=True)"
   ]
  },
  {
   "cell_type": "code",
   "execution_count": null,
   "metadata": {
    "execution": {
     "iopub.execute_input": "2022-08-03T09:08:28.226925Z",
     "iopub.status.busy": "2022-08-03T09:08:28.2266Z",
     "iopub.status.idle": "2022-08-03T09:08:28.232154Z",
     "shell.execute_reply": "2022-08-03T09:08:28.231164Z",
     "shell.execute_reply.started": "2022-08-03T09:08:28.226896Z"
    },
    "executionInfo": {
     "elapsed": 13509,
     "status": "ok",
     "timestamp": 1601973743995,
     "user": {
      "displayName": "Pianalytix Vrec",
      "photoUrl": "",
      "userId": "08286299111597749388"
     },
     "user_tz": -330
    },
    "id": "SU8qXjOwUX8i"
   },
   "outputs": [],
   "source": [
    "def scatter(train_merge, column):\n",
    "    plt.figure()\n",
    "    plt.scatter(train_merge[column] , train_merge['Weekly_Sales'])\n",
    "    plt.ylabel('Weekly_Sales')\n",
    "    plt.xlabel(column)"
   ]
  },
  {
   "cell_type": "code",
   "execution_count": null,
   "metadata": {
    "execution": {
     "iopub.execute_input": "2022-08-03T09:08:28.233961Z",
     "iopub.status.busy": "2022-08-03T09:08:28.23365Z",
     "iopub.status.idle": "2022-08-03T09:08:36.639617Z",
     "shell.execute_reply": "2022-08-03T09:08:36.638808Z",
     "shell.execute_reply.started": "2022-08-03T09:08:28.233933Z"
    },
    "executionInfo": {
     "elapsed": 28472,
     "status": "ok",
     "timestamp": 1601973758998,
     "user": {
      "displayName": "Pianalytix Vrec",
      "photoUrl": "",
      "userId": "08286299111597749388"
     },
     "user_tz": -330
    },
    "id": "yv67heYxUcEn",
    "outputId": "718be0d8-f8ce-415a-d684-b1fadb31335b"
   },
   "outputs": [],
   "source": [
    "scatter(train_merge, 'Fuel_Price')  # with respect to Fuel_Price\n",
    "scatter(train_merge, 'Size')  # with respect to Size\n",
    "scatter(train_merge, 'CPI')  # with respect to CPI\n",
    "scatter(train_merge, 'Type')  # with respect to Type\n",
    "scatter(train_merge, 'IsHoliday') # with respect to IsHoliday\n",
    "scatter(train_merge, 'Unemployment')  # with respect to Unemployment\n",
    "scatter(train_merge, 'Temperature') # with respect to Temperature\n",
    "scatter(train_merge, 'Store') # with respect to Store\n",
    "scatter(train_merge, 'Dept')  # with respect to Dept"
   ]
  },
  {
   "cell_type": "markdown",
   "metadata": {
    "id": "zHlKLghlO9A3"
   },
   "source": [
    "### Correlation Matrix"
   ]
  },
  {
   "cell_type": "markdown",
   "metadata": {
    "id": "YGTyV7rDfCiE"
   },
   "source": [
    "Let's have a look at the Average Weekly Sales per Year and find out if there is any other holiday peak sales that were not considered by 'IsHoliday' filed"
   ]
  },
  {
   "cell_type": "code",
   "execution_count": null,
   "metadata": {
    "execution": {
     "iopub.execute_input": "2022-08-03T09:08:36.641893Z",
     "iopub.status.busy": "2022-08-03T09:08:36.640939Z",
     "iopub.status.idle": "2022-08-03T09:08:36.887429Z",
     "shell.execute_reply": "2022-08-03T09:08:36.886438Z",
     "shell.execute_reply.started": "2022-08-03T09:08:36.641857Z"
    },
    "executionInfo": {
     "elapsed": 28398,
     "status": "ok",
     "timestamp": 1601973759000,
     "user": {
      "displayName": "Pianalytix Vrec",
      "photoUrl": "",
      "userId": "08286299111597749388"
     },
     "user_tz": -330
    },
    "id": "dg0EA1n-Ui-P",
    "outputId": "525a693f-417e-4dab-dc07-8109a24ceae2"
   },
   "outputs": [],
   "source": [
    "# Average Weekly Sales for the year 2010\n",
    "weekly_sales_2010 = train_merge[train_merge['Year']==2010]['Weekly_Sales'].groupby(train_merge['Week']).mean()\n",
    "\n",
    "sns.lineplot(weekly_sales_2010.index, weekly_sales_2010.values) # for plotting then lineplot"
   ]
  },
  {
   "cell_type": "code",
   "execution_count": null,
   "metadata": {
    "execution": {
     "iopub.execute_input": "2022-08-03T09:08:36.888938Z",
     "iopub.status.busy": "2022-08-03T09:08:36.888557Z",
     "iopub.status.idle": "2022-08-03T09:08:37.129738Z",
     "shell.execute_reply": "2022-08-03T09:08:37.128723Z",
     "shell.execute_reply.started": "2022-08-03T09:08:36.888909Z"
    },
    "executionInfo": {
     "elapsed": 28344,
     "status": "ok",
     "timestamp": 1601973759002,
     "user": {
      "displayName": "Pianalytix Vrec",
      "photoUrl": "",
      "userId": "08286299111597749388"
     },
     "user_tz": -330
    },
    "id": "O41pU0XPUmPR",
    "outputId": "d3c654e1-2c1d-48da-8b1e-3256cc0b3368"
   },
   "outputs": [],
   "source": [
    "# Average Weekly Sales for the year 2011\n",
    "weekly_sales_2011 = train_merge[train_merge['Year']==2011]['Weekly_Sales'].groupby(train_merge['Week']).mean()\n",
    "\n",
    "sns.lineplot(weekly_sales_2011.index, weekly_sales_2011.values) # for plotting then lineplot"
   ]
  },
  {
   "cell_type": "code",
   "execution_count": null,
   "metadata": {
    "execution": {
     "iopub.execute_input": "2022-08-03T09:08:37.13141Z",
     "iopub.status.busy": "2022-08-03T09:08:37.130982Z",
     "iopub.status.idle": "2022-08-03T09:08:37.356857Z",
     "shell.execute_reply": "2022-08-03T09:08:37.354589Z",
     "shell.execute_reply.started": "2022-08-03T09:08:37.13138Z"
    },
    "executionInfo": {
     "elapsed": 29413,
     "status": "ok",
     "timestamp": 1601973760133,
     "user": {
      "displayName": "Pianalytix Vrec",
      "photoUrl": "",
      "userId": "08286299111597749388"
     },
     "user_tz": -330
    },
    "id": "UvUV4n9nUp-z",
    "outputId": "1167dfde-3600-471b-a780-ae69b60f916b"
   },
   "outputs": [],
   "source": [
    "# Average Weekly Sales for the year 2012\n",
    "weekly_sales_2012 = train_merge[train_merge['Year']==2012]['Weekly_Sales'].groupby(train_merge['Week']).mean()\n",
    "\n",
    "sns.lineplot(weekly_sales_2012.index, weekly_sales_2012.values) # for plotting then lineplot"
   ]
  },
  {
   "cell_type": "code",
   "execution_count": null,
   "metadata": {
    "execution": {
     "iopub.execute_input": "2022-08-03T09:08:37.358583Z",
     "iopub.status.busy": "2022-08-03T09:08:37.358242Z",
     "iopub.status.idle": "2022-08-03T09:08:38.110892Z",
     "shell.execute_reply": "2022-08-03T09:08:38.109748Z",
     "shell.execute_reply.started": "2022-08-03T09:08:37.358554Z"
    },
    "executionInfo": {
     "elapsed": 29361,
     "status": "ok",
     "timestamp": 1601973760137,
     "user": {
      "displayName": "Pianalytix Vrec",
      "photoUrl": "",
      "userId": "08286299111597749388"
     },
     "user_tz": -330
    },
    "id": "pIq3YIoMUtIA",
    "outputId": "fa9cb474-ee2a-43c9-bccb-853cc8d16163"
   },
   "outputs": [],
   "source": [
    "# Plotting the above three plot together \n",
    "plt.figure(figsize=(20,8))\n",
    "sns.lineplot(weekly_sales_2010.index, weekly_sales_2010.values)\n",
    "sns.lineplot(weekly_sales_2011.index, weekly_sales_2011.values)\n",
    "sns.lineplot(weekly_sales_2012.index, weekly_sales_2012.values)\n",
    "plt.grid()\n",
    "plt.xticks(np.arange(1,60, step=1))\n",
    "plt.legend(['2010', '2011', '2012'], loc='best', fontsize=16)\n",
    "plt.title('Average Weekly Sales Per Year', fontsize=20)\n",
    "plt.ylabel('Sales', fontsize=16)\n",
    "plt.xlabel('Week', fontsize=16)\n",
    "plt.show()"
   ]
  },
  {
   "cell_type": "code",
   "execution_count": null,
   "metadata": {
    "execution": {
     "iopub.execute_input": "2022-08-03T09:08:38.112931Z",
     "iopub.status.busy": "2022-08-03T09:08:38.112616Z",
     "iopub.status.idle": "2022-08-03T09:08:39.216696Z",
     "shell.execute_reply": "2022-08-03T09:08:39.215545Z",
     "shell.execute_reply.started": "2022-08-03T09:08:38.112902Z"
    },
    "executionInfo": {
     "elapsed": 30309,
     "status": "ok",
     "timestamp": 1601973761176,
     "user": {
      "displayName": "Pianalytix Vrec",
      "photoUrl": "",
      "userId": "08286299111597749388"
     },
     "user_tz": -330
    },
    "id": "eOtL0183UwaU",
    "outputId": "3a44e9bb-6ee0-43ba-9fe2-7b904e81ed93"
   },
   "outputs": [],
   "source": [
    "# Average Sales per Department\n",
    "\n",
    "weekly_sales = train_merge['Weekly_Sales'].groupby(train_merge['Dept']).mean()\n",
    "plt.figure(figsize=(25,12))\n",
    "sns.barplot(weekly_sales.index, weekly_sales.values, palette='dark')\n",
    "plt.grid()\n",
    "plt.title('Average Sales per Department', fontsize=20)\n",
    "plt.xlabel('Department', fontsize=16)\n",
    "plt.ylabel('Sales', fontsize=16)\n",
    "plt.show()"
   ]
  },
  {
   "cell_type": "code",
   "execution_count": null,
   "metadata": {
    "execution": {
     "iopub.execute_input": "2022-08-03T09:08:39.2185Z",
     "iopub.status.busy": "2022-08-03T09:08:39.217982Z",
     "iopub.status.idle": "2022-08-03T09:08:39.817861Z",
     "shell.execute_reply": "2022-08-03T09:08:39.817091Z",
     "shell.execute_reply.started": "2022-08-03T09:08:39.218466Z"
    },
    "executionInfo": {
     "elapsed": 1263,
     "status": "ok",
     "timestamp": 1601973818989,
     "user": {
      "displayName": "Pianalytix Vrec",
      "photoUrl": "",
      "userId": "08286299111597749388"
     },
     "user_tz": -330
    },
    "id": "lwInpAgWUztQ",
    "outputId": "3cef556f-217c-4e2d-c9db-bd244178b4c6"
   },
   "outputs": [],
   "source": [
    "# Average Sales per Store\n",
    "\n",
    "weekly_sales = train_merge['Weekly_Sales'].groupby(train_merge['Store']).mean()\n",
    "plt.figure(figsize=(20,12))\n",
    "sns.barplot(weekly_sales.index, weekly_sales.values, palette='dark')\n",
    "plt.grid()\n",
    "plt.title('Average Sales per Store', fontsize=20)\n",
    "plt.xlabel('Store', fontsize=16)\n",
    "plt.ylabel('Sales', fontsize=16)\n",
    "plt.show()"
   ]
  },
  {
   "cell_type": "code",
   "execution_count": null,
   "metadata": {
    "execution": {
     "iopub.execute_input": "2022-08-03T09:08:39.819537Z",
     "iopub.status.busy": "2022-08-03T09:08:39.819031Z",
     "iopub.status.idle": "2022-08-03T09:08:41.235217Z",
     "shell.execute_reply": "2022-08-03T09:08:41.23446Z",
     "shell.execute_reply.started": "2022-08-03T09:08:39.819505Z"
    },
    "executionInfo": {
     "elapsed": 2273,
     "status": "ok",
     "timestamp": 1601973889331,
     "user": {
      "displayName": "Pianalytix Vrec",
      "photoUrl": "",
      "userId": "08286299111597749388"
     },
     "user_tz": -330
    },
    "id": "h8nwZUlMVFut",
    "outputId": "c2db8e08-3df7-4c7f-9204-0f6d0387e07e"
   },
   "outputs": [],
   "source": [
    "sns.set(style = \"white\")\n",
    "\n",
    "corr = train_merge.corr()\n",
    "\n",
    "mask = np.triu(np.ones_like(corr, dtype=np.bool))\n",
    "\n",
    "f, ax = plt.subplots(figsize=(20, 15))\n",
    "\n",
    "cmap = sns.diverging_palette(220, 10, as_cmap=True)\n",
    "\n",
    "plt.title('Correlation Matrix', fontsize=18)\n",
    "\n",
    "sns.heatmap(corr, mask=mask, cmap=cmap, vmax=.3, center=0, square=True, linewidths=.5, cbar_kws={\"shrink\": .5}, annot=True)\n",
    "\n",
    "plt.show()"
   ]
  },
  {
   "cell_type": "code",
   "execution_count": null,
   "metadata": {
    "execution": {
     "iopub.execute_input": "2022-08-03T09:08:41.237096Z",
     "iopub.status.busy": "2022-08-03T09:08:41.236388Z",
     "iopub.status.idle": "2022-08-03T09:08:41.264329Z",
     "shell.execute_reply": "2022-08-03T09:08:41.26334Z",
     "shell.execute_reply.started": "2022-08-03T09:08:41.237061Z"
    },
    "executionInfo": {
     "elapsed": 961,
     "status": "ok",
     "timestamp": 1601974004807,
     "user": {
      "displayName": "Pianalytix Vrec",
      "photoUrl": "",
      "userId": "08286299111597749388"
     },
     "user_tz": -330
    },
    "id": "SMryZIFVVJ1-"
   },
   "outputs": [],
   "source": [
    "# Dropping down the variables that have weak correlation\n",
    "\n",
    "train_merge = train_merge.drop(columns=['Fuel_Price', 'MarkDown1', 'MarkDown2', 'MarkDown3', 'MarkDown4', 'MarkDown5'])\n",
    "test_merge = test_merge.drop(columns=['Fuel_Price', 'MarkDown1', 'MarkDown2', 'MarkDown3', 'MarkDown4', 'MarkDown5'])"
   ]
  },
  {
   "cell_type": "code",
   "execution_count": null,
   "metadata": {
    "execution": {
     "iopub.execute_input": "2022-08-03T09:08:41.266113Z",
     "iopub.status.busy": "2022-08-03T09:08:41.265705Z",
     "iopub.status.idle": "2022-08-03T09:08:41.283496Z",
     "shell.execute_reply": "2022-08-03T09:08:41.28223Z",
     "shell.execute_reply.started": "2022-08-03T09:08:41.266074Z"
    },
    "executionInfo": {
     "elapsed": 1135,
     "status": "ok",
     "timestamp": 1601974009059,
     "user": {
      "displayName": "Pianalytix Vrec",
      "photoUrl": "",
      "userId": "08286299111597749388"
     },
     "user_tz": -330
    },
    "id": "KVaOjiFZVOi8",
    "outputId": "dccae46a-bd55-4c5d-b071-f4d16a7ed349"
   },
   "outputs": [],
   "source": [
    "train_merge.head()"
   ]
  },
  {
   "cell_type": "code",
   "execution_count": null,
   "metadata": {
    "execution": {
     "iopub.execute_input": "2022-08-03T09:08:41.285745Z",
     "iopub.status.busy": "2022-08-03T09:08:41.284874Z",
     "iopub.status.idle": "2022-08-03T09:08:41.304538Z",
     "shell.execute_reply": "2022-08-03T09:08:41.30334Z",
     "shell.execute_reply.started": "2022-08-03T09:08:41.285703Z"
    },
    "executionInfo": {
     "elapsed": 1062,
     "status": "ok",
     "timestamp": 1601974039752,
     "user": {
      "displayName": "Pianalytix Vrec",
      "photoUrl": "",
      "userId": "08286299111597749388"
     },
     "user_tz": -330
    },
    "id": "pjMjXXVjVSIP",
    "outputId": "2714182f-7039-4e21-b9bb-df785aebd3a2"
   },
   "outputs": [],
   "source": [
    "test_merge.head()"
   ]
  },
  {
   "cell_type": "code",
   "execution_count": null,
   "metadata": {
    "execution": {
     "iopub.execute_input": "2022-08-03T09:08:41.306586Z",
     "iopub.status.busy": "2022-08-03T09:08:41.306054Z",
     "iopub.status.idle": "2022-08-03T09:08:41.315026Z",
     "shell.execute_reply": "2022-08-03T09:08:41.314339Z",
     "shell.execute_reply.started": "2022-08-03T09:08:41.306545Z"
    },
    "executionInfo": {
     "elapsed": 1172,
     "status": "ok",
     "timestamp": 1601974153034,
     "user": {
      "displayName": "Pianalytix Vrec",
      "photoUrl": "",
      "userId": "08286299111597749388"
     },
     "user_tz": -330
    },
    "id": "up1gjr8nVdU6",
    "outputId": "e4818403-6308-49fc-dd75-f406e8d5d69c"
   },
   "outputs": [],
   "source": [
    "# Counting the number of unique values\n",
    "train_df['Dept'].nunique()"
   ]
  },
  {
   "cell_type": "code",
   "execution_count": null,
   "metadata": {
    "execution": {
     "iopub.execute_input": "2022-08-03T09:08:41.316754Z",
     "iopub.status.busy": "2022-08-03T09:08:41.316195Z",
     "iopub.status.idle": "2022-08-03T09:08:41.328426Z",
     "shell.execute_reply": "2022-08-03T09:08:41.327417Z",
     "shell.execute_reply.started": "2022-08-03T09:08:41.316724Z"
    },
    "executionInfo": {
     "elapsed": 984,
     "status": "ok",
     "timestamp": 1601974161437,
     "user": {
      "displayName": "Pianalytix Vrec",
      "photoUrl": "",
      "userId": "08286299111597749388"
     },
     "user_tz": -330
    },
    "id": "yTYxz1YjVh3M",
    "outputId": "7e88768e-8c06-4b14-b947-7d16aa370cb0"
   },
   "outputs": [],
   "source": [
    "# Counting the number of unique values\n",
    "train_df['Store'].nunique()"
   ]
  },
  {
   "cell_type": "code",
   "execution_count": null,
   "metadata": {
    "execution": {
     "iopub.execute_input": "2022-08-03T09:08:41.33016Z",
     "iopub.status.busy": "2022-08-03T09:08:41.329435Z",
     "iopub.status.idle": "2022-08-03T09:08:41.336058Z",
     "shell.execute_reply": "2022-08-03T09:08:41.335018Z",
     "shell.execute_reply.started": "2022-08-03T09:08:41.330128Z"
    },
    "executionInfo": {
     "elapsed": 2025,
     "status": "ok",
     "timestamp": 1601974173691,
     "user": {
      "displayName": "Pianalytix Vrec",
      "photoUrl": "",
      "userId": "08286299111597749388"
     },
     "user_tz": -330
    },
    "id": "P2UrJ7VYWXZd",
    "outputId": "f2f52c36-b27f-47aa-b9ad-0e622e0cc0bb"
   },
   "outputs": [],
   "source": [
    "# Getting the columns in the train_merge \n",
    "train_merge.columns"
   ]
  },
  {
   "cell_type": "code",
   "execution_count": null,
   "metadata": {
    "execution": {
     "iopub.execute_input": "2022-08-03T09:08:41.338423Z",
     "iopub.status.busy": "2022-08-03T09:08:41.337781Z",
     "iopub.status.idle": "2022-08-03T09:08:41.34898Z",
     "shell.execute_reply": "2022-08-03T09:08:41.347766Z",
     "shell.execute_reply.started": "2022-08-03T09:08:41.338391Z"
    },
    "executionInfo": {
     "elapsed": 1029,
     "status": "ok",
     "timestamp": 1601974185015,
     "user": {
      "displayName": "Pianalytix Vrec",
      "photoUrl": "",
      "userId": "08286299111597749388"
     },
     "user_tz": -330
    },
    "id": "QyFh_xeUWaJ1",
    "outputId": "2211fb81-1be6-4e2b-ab79-d330ddcd3fad"
   },
   "outputs": [],
   "source": [
    "# Getting the columns in test_merge\n",
    "test_merge.columns"
   ]
  },
  {
   "cell_type": "markdown",
   "metadata": {
    "id": "aDSKAX6KfQOv"
   },
   "source": [
    "### Dividing the data into Train and Test"
   ]
  },
  {
   "cell_type": "code",
   "execution_count": null,
   "metadata": {
    "execution": {
     "iopub.execute_input": "2022-08-03T09:08:41.351455Z",
     "iopub.status.busy": "2022-08-03T09:08:41.350666Z",
     "iopub.status.idle": "2022-08-03T09:08:41.3655Z",
     "shell.execute_reply": "2022-08-03T09:08:41.364464Z",
     "shell.execute_reply.started": "2022-08-03T09:08:41.351412Z"
    },
    "executionInfo": {
     "elapsed": 1028,
     "status": "ok",
     "timestamp": 1601974262480,
     "user": {
      "displayName": "Pianalytix Vrec",
      "photoUrl": "",
      "userId": "08286299111597749388"
     },
     "user_tz": -330
    },
    "id": "qA4n-pLqWdC0"
   },
   "outputs": [],
   "source": [
    "X = train_merge[['Store','Dept','IsHoliday','Size','Week','Year']] # Selecting the values to be taken in the X\n",
    "y = train_merge['Weekly_Sales'] "
   ]
  },
  {
   "cell_type": "markdown",
   "metadata": {
    "id": "E8g26QwtfVNK"
   },
   "source": [
    "# Model Building"
   ]
  },
  {
   "cell_type": "code",
   "execution_count": null,
   "metadata": {
    "execution": {
     "iopub.execute_input": "2022-08-03T09:08:41.367792Z",
     "iopub.status.busy": "2022-08-03T09:08:41.366872Z",
     "iopub.status.idle": "2022-08-03T09:08:41.427872Z",
     "shell.execute_reply": "2022-08-03T09:08:41.426974Z",
     "shell.execute_reply.started": "2022-08-03T09:08:41.36776Z"
    },
    "executionInfo": {
     "elapsed": 874,
     "status": "ok",
     "timestamp": 1601974300881,
     "user": {
      "displayName": "Pianalytix Vrec",
      "photoUrl": "",
      "userId": "08286299111597749388"
     },
     "user_tz": -330
    },
    "id": "Xl1xJvYVXKR0"
   },
   "outputs": [],
   "source": [
    "# Splitting the data into Train and Test\n",
    "X_train, X_test, y_train, y_test = train_test_split(X, y, test_size = 0.3, random_state = 42)"
   ]
  },
  {
   "cell_type": "code",
   "execution_count": null,
   "metadata": {
    "execution": {
     "iopub.execute_input": "2022-08-03T09:08:41.429946Z",
     "iopub.status.busy": "2022-08-03T09:08:41.428948Z",
     "iopub.status.idle": "2022-08-03T09:08:41.44735Z",
     "shell.execute_reply": "2022-08-03T09:08:41.446344Z",
     "shell.execute_reply.started": "2022-08-03T09:08:41.4299Z"
    },
    "executionInfo": {
     "elapsed": 894,
     "status": "ok",
     "timestamp": 1601974316921,
     "user": {
      "displayName": "Pianalytix Vrec",
      "photoUrl": "",
      "userId": "08286299111597749388"
     },
     "user_tz": -330
    },
    "id": "71KGUQyCHASF",
    "outputId": "1f36d742-af0d-448b-971c-4669644eee09"
   },
   "outputs": [],
   "source": [
    "X_train.info()"
   ]
  },
  {
   "cell_type": "code",
   "execution_count": null,
   "metadata": {
    "execution": {
     "iopub.execute_input": "2022-08-03T09:08:41.448922Z",
     "iopub.status.busy": "2022-08-03T09:08:41.448538Z",
     "iopub.status.idle": "2022-08-03T09:08:49.288581Z",
     "shell.execute_reply": "2022-08-03T09:08:49.287362Z",
     "shell.execute_reply.started": "2022-08-03T09:08:41.448893Z"
    },
    "executionInfo": {
     "elapsed": 7269,
     "status": "ok",
     "timestamp": 1601974422785,
     "user": {
      "displayName": "Pianalytix Vrec",
      "photoUrl": "",
      "userId": "08286299111597749388"
     },
     "user_tz": -330
    },
    "id": "3dt2Q0TLXbJa",
    "outputId": "16b66a4b-ffde-494c-cbed-41c4c7fc6734"
   },
   "outputs": [],
   "source": [
    "# Performing GridSearchCV on Ridge Regression\n",
    "params = {'alpha' : [0.0001, 0.001, 0.01, 0.1, 1, 10, 100, 1000, 10000, 100000]}\n",
    "ridge_regressor = GridSearchCV(Ridge(), params, cv = 7, scoring = 'neg_mean_absolute_error', n_jobs = -1)\n",
    "ridge_regressor.fit(X_train, y_train)"
   ]
  },
  {
   "cell_type": "code",
   "execution_count": null,
   "metadata": {
    "execution": {
     "iopub.execute_input": "2022-08-03T09:08:49.291407Z",
     "iopub.status.busy": "2022-08-03T09:08:49.290736Z",
     "iopub.status.idle": "2022-08-03T09:08:49.617421Z",
     "shell.execute_reply": "2022-08-03T09:08:49.615804Z",
     "shell.execute_reply.started": "2022-08-03T09:08:49.291362Z"
    },
    "executionInfo": {
     "elapsed": 852,
     "status": "ok",
     "timestamp": 1601974448212,
     "user": {
      "displayName": "Pianalytix Vrec",
      "photoUrl": "",
      "userId": "08286299111597749388"
     },
     "user_tz": -330
    },
    "id": "FH9eMJBjXeUY"
   },
   "outputs": [],
   "source": [
    "# Predicting train and test results\n",
    "y_train_pred = ridge_regressor.predict(X_train)\n",
    "y_test_pred = ridge_regressor.predict(X_test)"
   ]
  },
  {
   "cell_type": "code",
   "execution_count": null,
   "metadata": {
    "execution": {
     "iopub.execute_input": "2022-08-03T09:08:49.620699Z",
     "iopub.status.busy": "2022-08-03T09:08:49.619774Z",
     "iopub.status.idle": "2022-08-03T09:08:49.638217Z",
     "shell.execute_reply": "2022-08-03T09:08:49.636479Z",
     "shell.execute_reply.started": "2022-08-03T09:08:49.620641Z"
    },
    "executionInfo": {
     "elapsed": 881,
     "status": "ok",
     "timestamp": 1601974453917,
     "user": {
      "displayName": "Pianalytix Vrec",
      "photoUrl": "",
      "userId": "08286299111597749388"
     },
     "user_tz": -330
    },
    "id": "1zf27wL5XjGW",
    "outputId": "2f9c917b-3fb9-497f-ede9-404b639fe45e"
   },
   "outputs": [],
   "source": [
    "print(\"Train Results for Ridge Regressor Model:\")\n",
    "print(\"Root Mean Squared Error: \", sqrt(mse(y_train.values, y_train_pred)))\n",
    "print(\"R-Squared: \", r2_score(y_train.values, y_train_pred))"
   ]
  },
  {
   "cell_type": "code",
   "execution_count": null,
   "metadata": {
    "execution": {
     "iopub.execute_input": "2022-08-03T09:08:49.64147Z",
     "iopub.status.busy": "2022-08-03T09:08:49.640564Z",
     "iopub.status.idle": "2022-08-03T09:08:49.661018Z",
     "shell.execute_reply": "2022-08-03T09:08:49.658896Z",
     "shell.execute_reply.started": "2022-08-03T09:08:49.641416Z"
    },
    "executionInfo": {
     "elapsed": 1102,
     "status": "ok",
     "timestamp": 1601974466192,
     "user": {
      "displayName": "Pianalytix Vrec",
      "photoUrl": "",
      "userId": "08286299111597749388"
     },
     "user_tz": -330
    },
    "id": "xwG6zPxEAnni",
    "outputId": "54e2ac87-9638-48ab-de14-f9eed0dad908"
   },
   "outputs": [],
   "source": [
    "print(\"Test Results for Ridge Regressor Model:\")\n",
    "print(\"Root Mean Squared Error: \", sqrt(mse(y_test.values, y_test_pred)))\n",
    "print(\"R-Squared: \", r2_score(y_test.values, y_test_pred))"
   ]
  },
  {
   "cell_type": "code",
   "execution_count": null,
   "metadata": {
    "execution": {
     "iopub.execute_input": "2022-08-03T09:08:49.664311Z",
     "iopub.status.busy": "2022-08-03T09:08:49.663365Z",
     "iopub.status.idle": "2022-08-03T09:09:08.312788Z",
     "shell.execute_reply": "2022-08-03T09:09:08.311341Z",
     "shell.execute_reply.started": "2022-08-03T09:08:49.664236Z"
    },
    "executionInfo": {
     "elapsed": 15766,
     "status": "ok",
     "timestamp": 1601974541227,
     "user": {
      "displayName": "Pianalytix Vrec",
      "photoUrl": "",
      "userId": "08286299111597749388"
     },
     "user_tz": -330
    },
    "id": "f-7ODEVbXmPr",
    "outputId": "38a1406e-0443-4812-db72-fd28dcddbeea"
   },
   "outputs": [],
   "source": [
    "# Performing GridSearchCV on Lasso Regression\n",
    "params = {'alpha' : [0.0001, 0.001, 0.01, 0.1, 1, 10, 100, 1000, 10000, 100000]}\n",
    "lasso_regressor = GridSearchCV(Lasso(), params ,cv = 15,scoring = 'neg_mean_absolute_error', n_jobs = -1)\n",
    "lasso_regressor.fit(X_train, y_train)"
   ]
  },
  {
   "cell_type": "code",
   "execution_count": null,
   "metadata": {
    "execution": {
     "iopub.execute_input": "2022-08-03T09:09:08.31636Z",
     "iopub.status.busy": "2022-08-03T09:09:08.314883Z",
     "iopub.status.idle": "2022-08-03T09:09:08.637719Z",
     "shell.execute_reply": "2022-08-03T09:09:08.63632Z",
     "shell.execute_reply.started": "2022-08-03T09:09:08.316286Z"
    },
    "executionInfo": {
     "elapsed": 1092,
     "status": "ok",
     "timestamp": 1601974574864,
     "user": {
      "displayName": "Pianalytix Vrec",
      "photoUrl": "",
      "userId": "08286299111597749388"
     },
     "user_tz": -330
    },
    "id": "RCCQ8qVzXs4W"
   },
   "outputs": [],
   "source": [
    "# Predicting train and test results\n",
    "y_train_pred = lasso_regressor.predict(X_train)\n",
    "y_test_pred = lasso_regressor.predict(X_test)"
   ]
  },
  {
   "cell_type": "code",
   "execution_count": null,
   "metadata": {
    "execution": {
     "iopub.execute_input": "2022-08-03T09:09:08.639933Z",
     "iopub.status.busy": "2022-08-03T09:09:08.639477Z",
     "iopub.status.idle": "2022-08-03T09:09:08.653918Z",
     "shell.execute_reply": "2022-08-03T09:09:08.652731Z",
     "shell.execute_reply.started": "2022-08-03T09:09:08.639877Z"
    },
    "executionInfo": {
     "elapsed": 934,
     "status": "ok",
     "timestamp": 1601974580797,
     "user": {
      "displayName": "Pianalytix Vrec",
      "photoUrl": "",
      "userId": "08286299111597749388"
     },
     "user_tz": -330
    },
    "id": "Hq_tlK2iX0o_",
    "outputId": "df8a8dd3-d4be-49f8-c385-25f0b2068e26"
   },
   "outputs": [],
   "source": [
    "print(\"Train Results for Lasso Regressor Model:\")\n",
    "print(\"Root Mean Squared Error: \", sqrt(mse(y_train.values, y_train_pred)))\n",
    "print(\"R-Squared: \", r2_score(y_train.values, y_train_pred))"
   ]
  },
  {
   "cell_type": "code",
   "execution_count": null,
   "metadata": {
    "execution": {
     "iopub.execute_input": "2022-08-03T09:09:08.657015Z",
     "iopub.status.busy": "2022-08-03T09:09:08.656333Z",
     "iopub.status.idle": "2022-08-03T09:09:08.670931Z",
     "shell.execute_reply": "2022-08-03T09:09:08.669305Z",
     "shell.execute_reply.started": "2022-08-03T09:09:08.656972Z"
    },
    "executionInfo": {
     "elapsed": 1262,
     "status": "ok",
     "timestamp": 1601974596134,
     "user": {
      "displayName": "Pianalytix Vrec",
      "photoUrl": "",
      "userId": "08286299111597749388"
     },
     "user_tz": -330
    },
    "id": "3w_iTqGJX5Ss",
    "outputId": "d643bb0e-ab1e-49d1-faeb-015e8a39e4dd"
   },
   "outputs": [],
   "source": [
    "print(\"Test Results for Lasso Regressor Model:\")\n",
    "print(\"Root Mean squared Error: \", sqrt(mse(y_test, y_test_pred)))\n",
    "print(\"R-Squared: \", r2_score(y_test, y_test_pred))"
   ]
  },
  {
   "cell_type": "code",
   "execution_count": null,
   "metadata": {
    "execution": {
     "iopub.execute_input": "2022-08-03T09:09:08.675041Z",
     "iopub.status.busy": "2022-08-03T09:09:08.673908Z",
     "iopub.status.idle": "2022-08-03T09:12:54.730557Z",
     "shell.execute_reply": "2022-08-03T09:12:54.729083Z",
     "shell.execute_reply.started": "2022-08-03T09:09:08.67498Z"
    },
    "executionInfo": {
     "elapsed": 189295,
     "status": "ok",
     "timestamp": 1601974865274,
     "user": {
      "displayName": "Pianalytix Vrec",
      "photoUrl": "",
      "userId": "08286299111597749388"
     },
     "user_tz": -330
    },
    "id": "6NYBbp7lX-AR",
    "outputId": "9e2f2b95-6e88-4092-8f88-2b7c4c8d4af8"
   },
   "outputs": [],
   "source": [
    "# Performing GridSearchCV on Decision Tree Regression\n",
    "from sklearn.tree import DecisionTreeRegressor\n",
    "\n",
    "depth = list(range(3,30))\n",
    "param_grid = dict(max_depth = depth)\n",
    "tree = GridSearchCV(DecisionTreeRegressor(), param_grid, cv = 10)\n",
    "tree.fit(X_train,y_train)"
   ]
  },
  {
   "cell_type": "code",
   "execution_count": null,
   "metadata": {
    "execution": {
     "iopub.execute_input": "2022-08-03T09:12:54.733068Z",
     "iopub.status.busy": "2022-08-03T09:12:54.732574Z",
     "iopub.status.idle": "2022-08-03T09:12:55.076639Z",
     "shell.execute_reply": "2022-08-03T09:12:55.075589Z",
     "shell.execute_reply.started": "2022-08-03T09:12:54.733036Z"
    },
    "executionInfo": {
     "elapsed": 1064,
     "status": "ok",
     "timestamp": 1601974973447,
     "user": {
      "displayName": "Pianalytix Vrec",
      "photoUrl": "",
      "userId": "08286299111597749388"
     },
     "user_tz": -330
    },
    "id": "tVlLldQ5YD4V"
   },
   "outputs": [],
   "source": [
    "# Predicting train and test results\n",
    "y_train_pred = tree.predict(X_train)\n",
    "y_test_pred = tree.predict(X_test)"
   ]
  },
  {
   "cell_type": "code",
   "execution_count": null,
   "metadata": {
    "execution": {
     "iopub.execute_input": "2022-08-03T09:12:55.07831Z",
     "iopub.status.busy": "2022-08-03T09:12:55.077969Z",
     "iopub.status.idle": "2022-08-03T09:12:55.089249Z",
     "shell.execute_reply": "2022-08-03T09:12:55.088144Z",
     "shell.execute_reply.started": "2022-08-03T09:12:55.078251Z"
    },
    "executionInfo": {
     "elapsed": 1682,
     "status": "ok",
     "timestamp": 1601974982799,
     "user": {
      "displayName": "Pianalytix Vrec",
      "photoUrl": "",
      "userId": "08286299111597749388"
     },
     "user_tz": -330
    },
    "id": "6FWM_j53Yoaa",
    "outputId": "a25465f7-e048-49a1-b4a5-534fd3846af4"
   },
   "outputs": [],
   "source": [
    "print(\"Train Results for Decision Tree Regressor Model:\")\n",
    "print(\"Root Mean squared Error: \", sqrt(mse(y_train.values, y_train_pred)))\n",
    "print(\"R-Squared: \", r2_score(y_train.values, y_train_pred))"
   ]
  },
  {
   "cell_type": "code",
   "execution_count": null,
   "metadata": {
    "execution": {
     "iopub.execute_input": "2022-08-03T09:12:55.091856Z",
     "iopub.status.busy": "2022-08-03T09:12:55.091022Z",
     "iopub.status.idle": "2022-08-03T09:12:55.101007Z",
     "shell.execute_reply": "2022-08-03T09:12:55.099978Z",
     "shell.execute_reply.started": "2022-08-03T09:12:55.091816Z"
    },
    "executionInfo": {
     "elapsed": 1023,
     "status": "ok",
     "timestamp": 1601975002465,
     "user": {
      "displayName": "Pianalytix Vrec",
      "photoUrl": "",
      "userId": "08286299111597749388"
     },
     "user_tz": -330
    },
    "id": "APCCORnoY1o2",
    "outputId": "26e1ae2e-cbc3-49eb-f194-3b87f23ac3a6"
   },
   "outputs": [],
   "source": [
    "print(\"Test Results for Decision Tree Regressor Model:\")\n",
    "print(\"Root Mean Squared Error: \", sqrt(mse(y_test, y_test_pred)))\n",
    "print(\"R-Squared: \", r2_score(y_test, y_test_pred))"
   ]
  },
  {
   "cell_type": "code",
   "execution_count": null,
   "metadata": {
    "execution": {
     "iopub.execute_input": "2022-08-03T09:12:55.103014Z",
     "iopub.status.busy": "2022-08-03T09:12:55.102687Z",
     "iopub.status.idle": "2022-08-03T09:18:15.269112Z",
     "shell.execute_reply": "2022-08-03T09:18:15.267916Z",
     "shell.execute_reply.started": "2022-08-03T09:12:55.102988Z"
    },
    "executionInfo": {
     "elapsed": 367558,
     "status": "ok",
     "timestamp": 1601975435411,
     "user": {
      "displayName": "Pianalytix Vrec",
      "photoUrl": "",
      "userId": "08286299111597749388"
     },
     "user_tz": -330
    },
    "id": "k1fv5EaIZDEO",
    "outputId": "2332bf6d-86c5-4d3b-ff1c-c64405094647"
   },
   "outputs": [],
   "source": [
    "# Performing RandomsearchCV on Random Forest Regression\n",
    "from sklearn.ensemble import RandomForestRegressor\n",
    "tuned_params = {'n_estimators': [100, 200], 'min_samples_split': [2, 5, 10], 'min_samples_leaf': [1, 2, 4]}  \n",
    "random_regressor = RandomizedSearchCV(RandomForestRegressor(), tuned_params, n_iter = 3, scoring = 'neg_mean_absolute_error', cv = 3, n_jobs = -1)\n",
    "random_regressor.fit(X_train, y_train)"
   ]
  },
  {
   "cell_type": "code",
   "execution_count": null,
   "metadata": {
    "execution": {
     "iopub.execute_input": "2022-08-03T09:18:15.271342Z",
     "iopub.status.busy": "2022-08-03T09:18:15.27089Z",
     "iopub.status.idle": "2022-08-03T09:18:45.030469Z",
     "shell.execute_reply": "2022-08-03T09:18:45.029353Z",
     "shell.execute_reply.started": "2022-08-03T09:18:15.271306Z"
    },
    "executionInfo": {
     "elapsed": 11268,
     "status": "ok",
     "timestamp": 1601975506554,
     "user": {
      "displayName": "Pianalytix Vrec",
      "photoUrl": "",
      "userId": "08286299111597749388"
     },
     "user_tz": -330
    },
    "id": "yak8QrvCZO57"
   },
   "outputs": [],
   "source": [
    "# Predicting train and test results\n",
    "y_train_pred = random_regressor.predict(X_train)\n",
    "y_test_pred = random_regressor.predict(X_test)"
   ]
  },
  {
   "cell_type": "code",
   "execution_count": null,
   "metadata": {
    "execution": {
     "iopub.execute_input": "2022-08-03T09:18:45.03242Z",
     "iopub.status.busy": "2022-08-03T09:18:45.031948Z",
     "iopub.status.idle": "2022-08-03T09:18:45.044425Z",
     "shell.execute_reply": "2022-08-03T09:18:45.043163Z",
     "shell.execute_reply.started": "2022-08-03T09:18:45.032377Z"
    },
    "executionInfo": {
     "elapsed": 894,
     "status": "ok",
     "timestamp": 1601975515645,
     "user": {
      "displayName": "Pianalytix Vrec",
      "photoUrl": "",
      "userId": "08286299111597749388"
     },
     "user_tz": -330
    },
    "id": "FKEgGJ22ZTLI",
    "outputId": "698a4ef8-3ccc-48b5-d535-40f563f42a7e"
   },
   "outputs": [],
   "source": [
    "print(\"Train Results for Random Forest Regressor Model:\")\n",
    "print(\"Root Mean Squared Error: \", sqrt(mse(y_train.values, y_train_pred)))\n",
    "print(\"R-Squared: \", r2_score(y_train.values, y_train_pred))"
   ]
  },
  {
   "cell_type": "code",
   "execution_count": null,
   "metadata": {
    "execution": {
     "iopub.execute_input": "2022-08-03T09:18:45.046858Z",
     "iopub.status.busy": "2022-08-03T09:18:45.046269Z",
     "iopub.status.idle": "2022-08-03T09:18:45.057152Z",
     "shell.execute_reply": "2022-08-03T09:18:45.056163Z",
     "shell.execute_reply.started": "2022-08-03T09:18:45.046816Z"
    },
    "executionInfo": {
     "elapsed": 1157,
     "status": "ok",
     "timestamp": 1601975520138,
     "user": {
      "displayName": "Pianalytix Vrec",
      "photoUrl": "",
      "userId": "08286299111597749388"
     },
     "user_tz": -330
    },
    "id": "GlOXeILvZYJ_",
    "outputId": "1f11ccd1-0024-4024-b11c-4514cc79f55e"
   },
   "outputs": [],
   "source": [
    "print(\"Test Results for Random Forest Regressor Model:\")\n",
    "print(\"Root Mean Squared Error: \", sqrt(mse(y_test, y_test_pred)))\n",
    "print(\"R-Squared: \", r2_score(y_test, y_test_pred))"
   ]
  }
 ],
 "metadata": {
  "kernelspec": {
   "display_name": "Python 3 (ipykernel)",
   "language": "python",
   "name": "python3"
  },
  "language_info": {
   "codemirror_mode": {
    "name": "ipython",
    "version": 3
   },
   "file_extension": ".py",
   "mimetype": "text/x-python",
   "name": "python",
   "nbconvert_exporter": "python",
   "pygments_lexer": "ipython3",
   "version": "3.9.12"
  }
 },
 "nbformat": 4,
 "nbformat_minor": 4
}
